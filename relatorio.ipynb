{
 "cells": [
  {
   "cell_type": "markdown",
   "metadata": {},
   "source": [
    "# Projeto 1 - Ciência dos Dados"
   ]
  },
  {
   "cell_type": "markdown",
   "metadata": {},
   "source": [
    "Nome: Isabella Amorim \n",
    "\n",
    "Nome: Lucas Quadros\n",
    "\n",
    "Nome: Nicolas Yassuda"
   ]
  },
  {
   "cell_type": "markdown",
   "metadata": {},
   "source": [
    "Atenção: Serão permitidos grupos de três pessoas, mas com uma rubrica mais exigente. Grupos deste tamanho precisarão fazer um questionário de avaliação de trabalho em equipe"
   ]
  },
  {
   "cell_type": "markdown",
   "metadata": {},
   "source": [
    "___\n",
    "Carregando algumas bibliotecas:"
   ]
  },
  {
   "cell_type": "code",
   "execution_count": 27,
   "metadata": {},
   "outputs": [],
   "source": [
    "%matplotlib inline\n",
    "import pandas as pd\n",
    "import matplotlib.pyplot as plt\n",
    "import numpy as np\n",
    "import os\n",
    "import re\n",
    "from sklearn.metrics import accuracy_score"
   ]
  },
  {
   "cell_type": "code",
   "execution_count": 28,
   "metadata": {
    "scrolled": false
   },
   "outputs": [
    {
     "name": "stdout",
     "output_type": "stream",
     "text": [
      "Esperamos trabalhar no diretório\n",
      "C:\\Users\\Isabella\\OneDrive - Insper - Institudo de Ensino e Pesquisa\\Documentos\\Insper\\2º SEMESTRE\\CDADOS\\22-1a-cd-p1-grupo_lucas-quadros_nicolas\n"
     ]
    }
   ],
   "source": [
    "print('Esperamos trabalhar no diretório')\n",
    "print(os.getcwd())"
   ]
  },
  {
   "cell_type": "markdown",
   "metadata": {},
   "source": [
    "Carregando a base de dados com as notícias classificadas manualmente:"
   ]
  },
  {
   "cell_type": "code",
   "execution_count": 29,
   "metadata": {},
   "outputs": [],
   "source": [
    "filename = 'dados.xlsx'"
   ]
  },
  {
   "cell_type": "code",
   "execution_count": 30,
   "metadata": {},
   "outputs": [
    {
     "data": {
      "text/html": [
       "<div>\n",
       "<style scoped>\n",
       "    .dataframe tbody tr th:only-of-type {\n",
       "        vertical-align: middle;\n",
       "    }\n",
       "\n",
       "    .dataframe tbody tr th {\n",
       "        vertical-align: top;\n",
       "    }\n",
       "\n",
       "    .dataframe thead th {\n",
       "        text-align: right;\n",
       "    }\n",
       "</style>\n",
       "<table border=\"1\" class=\"dataframe\">\n",
       "  <thead>\n",
       "    <tr style=\"text-align: right;\">\n",
       "      <th></th>\n",
       "      <th>Categoria</th>\n",
       "      <th>Titulo</th>\n",
       "      <th>PrimeiroParag</th>\n",
       "      <th>Data</th>\n",
       "      <th>Pagina</th>\n",
       "      <th>Target</th>\n",
       "    </tr>\n",
       "  </thead>\n",
       "  <tbody>\n",
       "    <tr>\n",
       "      <th>0</th>\n",
       "      <td>Corretora cripto</td>\n",
       "      <td>Binance suspende saques temporariamente devido...</td>\n",
       "      <td>Nesta segunda-feira (1º), a corretora cripto B...</td>\n",
       "      <td>01/11/2021 - 15:26</td>\n",
       "      <td>77</td>\n",
       "      <td>2</td>\n",
       "    </tr>\n",
       "    <tr>\n",
       "      <th>1</th>\n",
       "      <td>Finanças Descentralizadas (DeFi)</td>\n",
       "      <td>Protocolos DeFi representam uma indústria de U...</td>\n",
       "      <td>De acordo com site rastreador DefiLlama, há, a...</td>\n",
       "      <td>13/10/2021 - 12:51</td>\n",
       "      <td>90</td>\n",
       "      <td>1</td>\n",
       "    </tr>\n",
       "    <tr>\n",
       "      <th>2</th>\n",
       "      <td>Mercados</td>\n",
       "      <td>Criptomoedas Terra (LUNA) e Avalanche (AVAX) l...</td>\n",
       "      <td>Conforme noticiado pelo Decrypt, algumas cript...</td>\n",
       "      <td>23/02/2022 - 8:36</td>\n",
       "      <td>12</td>\n",
       "      <td>1</td>\n",
       "    </tr>\n",
       "    <tr>\n",
       "      <th>3</th>\n",
       "      <td>Finanças Descentralizadas (DeFi)</td>\n",
       "      <td>Solana tem nova máxima histórica e ultrapassa ...</td>\n",
       "      <td>Segundo o Decrypt, dados da CoinGecko mostram ...</td>\n",
       "      <td>25/10/2021 - 12:27</td>\n",
       "      <td>82</td>\n",
       "      <td>1</td>\n",
       "    </tr>\n",
       "    <tr>\n",
       "      <th>4</th>\n",
       "      <td>Blockchain</td>\n",
       "      <td>Capacidade da Lightning Network atinge novo re...</td>\n",
       "      <td>A capacidade da Lightning Network do Bitcoin a...</td>\n",
       "      <td>29/09/2021 - 16:48</td>\n",
       "      <td>98</td>\n",
       "      <td>1</td>\n",
       "    </tr>\n",
       "  </tbody>\n",
       "</table>\n",
       "</div>"
      ],
      "text/plain": [
       "                           Categoria  \\\n",
       "0                  Corretora cripto    \n",
       "1  Finanças Descentralizadas (DeFi)    \n",
       "2                          Mercados    \n",
       "3  Finanças Descentralizadas (DeFi)    \n",
       "4                        Blockchain    \n",
       "\n",
       "                                              Titulo  \\\n",
       "0  Binance suspende saques temporariamente devido...   \n",
       "1  Protocolos DeFi representam uma indústria de U...   \n",
       "2  Criptomoedas Terra (LUNA) e Avalanche (AVAX) l...   \n",
       "3  Solana tem nova máxima histórica e ultrapassa ...   \n",
       "4  Capacidade da Lightning Network atinge novo re...   \n",
       "\n",
       "                                       PrimeiroParag                Data  \\\n",
       "0  Nesta segunda-feira (1º), a corretora cripto B...  01/11/2021 - 15:26   \n",
       "1  De acordo com site rastreador DefiLlama, há, a...  13/10/2021 - 12:51   \n",
       "2  Conforme noticiado pelo Decrypt, algumas cript...   23/02/2022 - 8:36   \n",
       "3  Segundo o Decrypt, dados da CoinGecko mostram ...  25/10/2021 - 12:27   \n",
       "4  A capacidade da Lightning Network do Bitcoin a...  29/09/2021 - 16:48   \n",
       "\n",
       "   Pagina  Target  \n",
       "0      77       2  \n",
       "1      90       1  \n",
       "2      12       1  \n",
       "3      82       1  \n",
       "4      98       1  "
      ]
     },
     "execution_count": 30,
     "metadata": {},
     "output_type": "execute_result"
    }
   ],
   "source": [
    "train = pd.read_excel(filename, sheet_name = 'Treinamento')\n",
    "train.head()"
   ]
  },
  {
   "cell_type": "code",
   "execution_count": 31,
   "metadata": {},
   "outputs": [
    {
     "data": {
      "text/html": [
       "<div>\n",
       "<style scoped>\n",
       "    .dataframe tbody tr th:only-of-type {\n",
       "        vertical-align: middle;\n",
       "    }\n",
       "\n",
       "    .dataframe tbody tr th {\n",
       "        vertical-align: top;\n",
       "    }\n",
       "\n",
       "    .dataframe thead th {\n",
       "        text-align: right;\n",
       "    }\n",
       "</style>\n",
       "<table border=\"1\" class=\"dataframe\">\n",
       "  <thead>\n",
       "    <tr style=\"text-align: right;\">\n",
       "      <th></th>\n",
       "      <th>Categoria</th>\n",
       "      <th>Titulo</th>\n",
       "      <th>PrimeiroParag</th>\n",
       "      <th>Data</th>\n",
       "      <th>Pagina</th>\n",
       "      <th>Target</th>\n",
       "    </tr>\n",
       "  </thead>\n",
       "  <tbody>\n",
       "    <tr>\n",
       "      <th>0</th>\n",
       "      <td>Corretora cripto</td>\n",
       "      <td>CEO da Crypto.com confirma que 400 contas fora...</td>\n",
       "      <td>O CEO da Crypto.com, Kris Marszalek, confirmou...</td>\n",
       "      <td>19/01/2022 - 16:08</td>\n",
       "      <td>32</td>\n",
       "      <td>2</td>\n",
       "    </tr>\n",
       "    <tr>\n",
       "      <th>1</th>\n",
       "      <td>Tradicional vs. cripto</td>\n",
       "      <td>Gigante de investimentos Pimco poderá negociar...</td>\n",
       "      <td>Pimco, empresa de investimentos que gerencia U...</td>\n",
       "      <td>21/10/2021 - 11:14</td>\n",
       "      <td>85</td>\n",
       "      <td>1</td>\n",
       "    </tr>\n",
       "    <tr>\n",
       "      <th>2</th>\n",
       "      <td>Investindo em cripto</td>\n",
       "      <td>Traders Club celebra contrato de US$ 15 milhõe...</td>\n",
       "      <td>Na manhã desta quarta-feira (6), o Traders Clu...</td>\n",
       "      <td>06/10/2021 - 13:56</td>\n",
       "      <td>94</td>\n",
       "      <td>1</td>\n",
       "    </tr>\n",
       "    <tr>\n",
       "      <th>3</th>\n",
       "      <td>Investimentos</td>\n",
       "      <td>Comissão de Valores Mobiliários dos Estados Un...</td>\n",
       "      <td>A Comissão de Valores Mobiliários dos Estados ...</td>\n",
       "      <td>15/10/2021 - 19:00</td>\n",
       "      <td>88</td>\n",
       "      <td>1</td>\n",
       "    </tr>\n",
       "    <tr>\n",
       "      <th>4</th>\n",
       "      <td>Opinião</td>\n",
       "      <td>Caio Mesquita: Novo uniforme para uma longa ba...</td>\n",
       "      <td>Desde o início, no agora longínquo 2009, temos...</td>\n",
       "      <td>18/12/2021 - 12:00</td>\n",
       "      <td>47</td>\n",
       "      <td>0</td>\n",
       "    </tr>\n",
       "  </tbody>\n",
       "</table>\n",
       "</div>"
      ],
      "text/plain": [
       "                 Categoria                                             Titulo  \\\n",
       "0        Corretora cripto   CEO da Crypto.com confirma que 400 contas fora...   \n",
       "1  Tradicional vs. cripto   Gigante de investimentos Pimco poderá negociar...   \n",
       "2    Investindo em cripto   Traders Club celebra contrato de US$ 15 milhõe...   \n",
       "3           Investimentos   Comissão de Valores Mobiliários dos Estados Un...   \n",
       "4                 Opinião   Caio Mesquita: Novo uniforme para uma longa ba...   \n",
       "\n",
       "                                       PrimeiroParag                Data  \\\n",
       "0  O CEO da Crypto.com, Kris Marszalek, confirmou...  19/01/2022 - 16:08   \n",
       "1  Pimco, empresa de investimentos que gerencia U...  21/10/2021 - 11:14   \n",
       "2  Na manhã desta quarta-feira (6), o Traders Clu...  06/10/2021 - 13:56   \n",
       "3  A Comissão de Valores Mobiliários dos Estados ...  15/10/2021 - 19:00   \n",
       "4  Desde o início, no agora longínquo 2009, temos...  18/12/2021 - 12:00   \n",
       "\n",
       "   Pagina  Target  \n",
       "0      32       2  \n",
       "1      85       1  \n",
       "2      94       1  \n",
       "3      88       1  \n",
       "4      47       0  "
      ]
     },
     "execution_count": 31,
     "metadata": {},
     "output_type": "execute_result"
    }
   ],
   "source": [
    "test = pd.read_excel(filename, sheet_name = 'Teste')\n",
    "test.head(5)"
   ]
  },
  {
   "cell_type": "markdown",
   "metadata": {},
   "source": [
    "___\n",
    "## Classificador automático\n"
   ]
  },
  {
   "cell_type": "markdown",
   "metadata": {},
   "source": [
    "Faça aqui uma descrição do seu assunto e o que considerou como relevante ou não relevante na classificação das notícias (Target).\n",
    "\n",
    "O assunto escolhido pelo grupo foi 'Criptomoedas', qualquer forma de moeda que existe digital ou virtualmente e usa criptografia para garantir a realização de transações. Foram escolhidas 3 variáveis para a target, sendo elas: as notícias neutras, as notícias boas e as notícias ruins para o mundo dos criptoativos. Dessa forma, para a classificação, o critério principal foi o impacto de cada notícia para as criptomoedas, assim, se uma notícia impactava positivamente, ela era classificada como boa (1); se ela impactava negativamente, era classificada como ruim (2) e se não causava impacto ou não estava relacionada, como neutra (0). Por exemplo: uma notícia sobre a queda ou desvalorização de uma moeda foi classificada como ruim; já sobre a valorização ou o aumento da procura por determinada cripto, foi classificada como boa; já uma notícia do tipo 'Conheça mais sobre as criptomoedas', foi classificada como neutra."
   ]
  },
  {
   "cell_type": "markdown",
   "metadata": {},
   "source": [
    "___\n",
    "### Montando um Classificador Naive-Bayes\n",
    "\n",
    "Considerando apenas as mensagens da planilha Treinamento, ensine  seu classificador."
   ]
  },
  {
   "cell_type": "code",
   "execution_count": 32,
   "metadata": {},
   "outputs": [],
   "source": [
    "def cleanup(text):\n",
    "    \"\"\"\n",
    "        Função de limpeza que troca alguns sinais básicos e a string de célula vazia por espaços\n",
    "    \"\"\"\n",
    "    #import string\n",
    "    punctuation = '[!-.:?;''\"\"]' # Note que os sinais [] são delimitadores de um conjunto.\n",
    "    pattern = re.compile(punctuation)\n",
    "    pattern2 = re.compile('\\xa0')\n",
    "    text_subbed = re.sub(pattern, '', text)\n",
    "    text_subbed = re.sub(pattern2, '', text_subbed)\n",
    "    text_final = text_subbed.lower()\n",
    "    \n",
    "    return text_final\n",
    "\n",
    "\n",
    "def stopwords(text):\n",
    "    \"\"\"\n",
    "        Função de limpeza que remove preposições e artigos\n",
    "    \"\"\"\n",
    "    prepositions = ['a', 'e', 'de', 'da', 'do', 'para', 'o', 'em', 'que', 'com', 'as', 'os', 'no', 'um', 'uma', 'é', 'por', 'seu', 'sua', 'na', 'no', 'por', 'ao', 'para', 'dos', 'das']\n",
    "    new_text = ''\n",
    "    for word in text.split():\n",
    "        if word not in prepositions: \n",
    "            new_text += ' ' + word \n",
    "        else: \n",
    "            new_text = new_text\n",
    "    return new_text\n",
    "        "
   ]
  },
  {
   "cell_type": "code",
   "execution_count": 33,
   "metadata": {},
   "outputs": [],
   "source": [
    "''' Transforma o conteúdo das colunas Titulo e PrimeiroParag em string\n",
    "'''\n",
    "\n",
    "train.Titulo = train.Titulo.astype('str')\n",
    "train.PrimeiroParag = train.PrimeiroParag.astype('str')"
   ]
  },
  {
   "cell_type": "code",
   "execution_count": 34,
   "metadata": {},
   "outputs": [],
   "source": [
    "''' Aplicação da limpeza\n",
    "'''\n",
    "\n",
    "train.PrimeiroParag = train.PrimeiroParag.apply(cleanup)\n",
    "train.Titulo = train.Titulo.apply(cleanup)\n",
    "\n",
    "train.PrimeiroParag = train.PrimeiroParag.apply(stopwords)\n",
    "train.Titulo = train.Titulo.apply(stopwords)"
   ]
  },
  {
   "cell_type": "code",
   "execution_count": 35,
   "metadata": {},
   "outputs": [],
   "source": [
    "''' Junção do Titulo e PrimeiroParag na nova coluna 'texto'\n",
    "'''\n",
    "\n",
    "for i in range(0,600):\n",
    "    \n",
    "    noticia = train['Titulo'][i] + ' ' + train['PrimeiroParag'][i] \n",
    "    \n",
    "    train.loc[train['Titulo'] == train['Titulo'][i], 'texto'] = noticia \n"
   ]
  },
  {
   "cell_type": "code",
   "execution_count": 36,
   "metadata": {},
   "outputs": [],
   "source": [
    "''' Criação de grandes strings com todas as palavras contidas em cada variável \n",
    "'''\n",
    "\n",
    "neutro = ''\n",
    "bom = ''\n",
    "ruim = ''\n",
    "\n",
    "i = 0\n",
    "\n",
    "for classe in train['Target']: \n",
    "    \n",
    "    if classe == 0:\n",
    "        \n",
    "        neutro += ' ' + train['texto'][i]\n",
    "        \n",
    "    if classe == 1:\n",
    "        \n",
    "        bom += ' ' + train['texto'][i]\n",
    "        \n",
    "    if classe == 2:\n",
    "        \n",
    "        ruim += ' ' + train['texto'][i]\n",
    "        \n",
    "    i += 1\n",
    "    "
   ]
  },
  {
   "cell_type": "code",
   "execution_count": 37,
   "metadata": {},
   "outputs": [],
   "source": [
    "''' Split das grandes strings\n",
    "'''\n",
    "todas_palavras_neutro = neutro.split()\n",
    "todas_palavras_bom = bom.split()\n",
    "todas_palavras_ruim = ruim.split()\n",
    "\n",
    "''' Série em value counts absoluta e relativa das palavras em cada categoria\n",
    "'''\n",
    "serie_neutra = pd.Series(todas_palavras_neutro).value_counts(True)\n",
    "serie_boa = pd.Series(todas_palavras_bom).value_counts(True)\n",
    "serie_ruim = pd.Series(todas_palavras_ruim).value_counts(True)\n",
    "\n",
    "serie_neutra_abs = pd.Series(todas_palavras_neutro).value_counts()\n",
    "serie_boa_abs = pd.Series(todas_palavras_bom).value_counts()\n",
    "serie_ruim_abs = pd.Series(todas_palavras_ruim).value_counts()\n",
    "\n",
    "'''Junção de todas as palvras e aplicação do Value Counts para excluir repetições\n",
    "'''\n",
    "\n",
    "todas_as_palavras = todas_palavras_neutro + todas_palavras_bom + todas_palavras_ruim\n",
    "\n",
    "todas_as_palavras = pd.Series(todas_as_palavras).value_counts(True)\n"
   ]
  },
  {
   "cell_type": "code",
   "execution_count": 38,
   "metadata": {},
   "outputs": [],
   "source": [
    "'''Cálculo das probabilidas de cada variável\n",
    "'''\n",
    "prob0 = len(todas_palavras_neutro)/ (len(todas_palavras_neutro)+len(todas_palavras_bom)+len(todas_palavras_ruim))\n",
    "prob1 = len(todas_palavras_bom)/ (len(todas_palavras_neutro)+len(todas_palavras_bom)+len(todas_palavras_ruim))\n",
    "prob2 = len(todas_palavras_ruim)/ (len(todas_palavras_neutro)+len(todas_palavras_bom)+len(todas_palavras_ruim))"
   ]
  },
  {
   "cell_type": "markdown",
   "metadata": {},
   "source": [
    "___\n",
    "### Verificando a performance do Classificador\n",
    "\n",
    "Agora você deve testar o seu classificador com a base de Testes."
   ]
  },
  {
   "cell_type": "code",
   "execution_count": 39,
   "metadata": {},
   "outputs": [],
   "source": [
    "''' Transforma o conteúdo das colunas Titulo e PrimeiroParag em string\n",
    "'''\n",
    "test.Titulo = test.Titulo.astype('str')\n",
    "test.PrimeiroParag = test.PrimeiroParag.astype('str')"
   ]
  },
  {
   "cell_type": "code",
   "execution_count": 40,
   "metadata": {},
   "outputs": [],
   "source": [
    "''' Aplicação da limpeza\n",
    "'''\n",
    "test.PrimeiroParag = test.PrimeiroParag.apply(cleanup)\n",
    "test.Titulo = test.Titulo.apply(cleanup)\n",
    "\n",
    "test.PrimeiroParag = test.PrimeiroParag.apply(stopwords)\n",
    "test.Titulo = test.Titulo.apply(stopwords)\n",
    "\n"
   ]
  },
  {
   "cell_type": "code",
   "execution_count": 41,
   "metadata": {},
   "outputs": [],
   "source": [
    "''' Junção do Titulo e PrimeiroParag na nova coluna 'texto'\n",
    "'''\n",
    "\n",
    "for i in range(0,len(test)): \n",
    "    \n",
    "    noticia = test['Titulo'][i] + ' ' + test['PrimeiroParag'][i] \n",
    "    \n",
    "    test.loc[test['Titulo'] == test['Titulo'][i], 'texto'] = noticia \n",
    "    \n",
    "test.texto = test.texto.astype('str')\n",
    "    "
   ]
  },
  {
   "cell_type": "code",
   "execution_count": 42,
   "metadata": {},
   "outputs": [],
   "source": [
    "'''Probabilidade texto dado neutro - com suavização de LaPlace\n",
    "'''\n",
    "lista_prob_texto_dado_0 = []\n",
    "\n",
    "for frase in test['texto']:\n",
    "    \n",
    "    prob_texto_dado_0 = 1\n",
    "    \n",
    "    for word in frase.split():\n",
    "        \n",
    "        if word not in serie_neutra:\n",
    "            \n",
    "            prob_texto_dado_0 *= 1 / (sum(serie_neutra_abs) + len(todas_as_palavras))\n",
    "            \n",
    "        else:\n",
    "            \n",
    "            prob_texto_dado_0 *= (serie_neutra_abs[word] + 1) / (sum(serie_neutra_abs) + len(todas_as_palavras))\n",
    "            \n",
    "    lista_prob_texto_dado_0.append(prob_texto_dado_0)\n",
    "    \n"
   ]
  },
  {
   "cell_type": "code",
   "execution_count": 43,
   "metadata": {},
   "outputs": [],
   "source": [
    "'''Probabilidade texto dado bom - com suavização de LaPlace\n",
    "'''\n",
    "lista_prob_texto_dado_1 = []\n",
    "\n",
    "for frase in test['texto']:\n",
    "    \n",
    "    prob_texto_dado_1 = 1\n",
    "    \n",
    "    for word in frase.split():\n",
    "        \n",
    "        if word not in serie_boa:\n",
    "            \n",
    "            prob_texto_dado_1 *= 1 / (sum(serie_boa_abs) + len(todas_as_palavras))\n",
    "            \n",
    "        else:\n",
    "            \n",
    "            prob_texto_dado_1 *= (serie_boa_abs[word] + 1) / (sum(serie_boa_abs) + len(todas_as_palavras))\n",
    "                \n",
    "    lista_prob_texto_dado_1.append(prob_texto_dado_1)\n",
    "    \n"
   ]
  },
  {
   "cell_type": "code",
   "execution_count": 44,
   "metadata": {},
   "outputs": [],
   "source": [
    "'''Probabilidade texto dado ruim - com suavização de LaPlace\n",
    "'''\n",
    "lista_prob_texto_dado_2 = []\n",
    "\n",
    "for frase in test['texto']:\n",
    "    \n",
    "    prob_texto_dado_2 = 1\n",
    "    \n",
    "    for word in frase.split():\n",
    "        \n",
    "        if word not in serie_ruim: \n",
    "            \n",
    "            prob_texto_dado_2 *= 1 / (sum(serie_ruim_abs) + len(todas_as_palavras))\n",
    "            \n",
    "        else:\n",
    "            \n",
    "            prob_texto_dado_2 *= (serie_ruim_abs[word] + 1) / (sum(serie_ruim_abs) + len(todas_as_palavras))\n",
    "                \n",
    "    lista_prob_texto_dado_2.append(prob_texto_dado_2)\n",
    "    "
   ]
  },
  {
   "cell_type": "code",
   "execution_count": 45,
   "metadata": {},
   "outputs": [
    {
     "data": {
      "text/html": [
       "<div>\n",
       "<style scoped>\n",
       "    .dataframe tbody tr th:only-of-type {\n",
       "        vertical-align: middle;\n",
       "    }\n",
       "\n",
       "    .dataframe tbody tr th {\n",
       "        vertical-align: top;\n",
       "    }\n",
       "\n",
       "    .dataframe thead th {\n",
       "        text-align: right;\n",
       "    }\n",
       "</style>\n",
       "<table border=\"1\" class=\"dataframe\">\n",
       "  <thead>\n",
       "    <tr style=\"text-align: right;\">\n",
       "      <th></th>\n",
       "      <th>Categoria</th>\n",
       "      <th>Titulo</th>\n",
       "      <th>PrimeiroParag</th>\n",
       "      <th>Data</th>\n",
       "      <th>Pagina</th>\n",
       "      <th>Target</th>\n",
       "      <th>texto</th>\n",
       "      <th>Classificador</th>\n",
       "    </tr>\n",
       "  </thead>\n",
       "  <tbody>\n",
       "    <tr>\n",
       "      <th>0</th>\n",
       "      <td>Corretora cripto</td>\n",
       "      <td>ceo cryptocom confirma 400 contas foram compr...</td>\n",
       "      <td>ceo cryptocom kris marszalek confirmou corret...</td>\n",
       "      <td>19/01/2022 - 16:08</td>\n",
       "      <td>32</td>\n",
       "      <td>2</td>\n",
       "      <td>ceo cryptocom confirma 400 contas foram compr...</td>\n",
       "      <td>2</td>\n",
       "    </tr>\n",
       "    <tr>\n",
       "      <th>1</th>\n",
       "      <td>Tradicional vs. cripto</td>\n",
       "      <td>gigante investimentos pimco poderá negociar c...</td>\n",
       "      <td>pimco empresa investimentos gerencia us 2 tri...</td>\n",
       "      <td>21/10/2021 - 11:14</td>\n",
       "      <td>85</td>\n",
       "      <td>1</td>\n",
       "      <td>gigante investimentos pimco poderá negociar c...</td>\n",
       "      <td>1</td>\n",
       "    </tr>\n",
       "    <tr>\n",
       "      <th>2</th>\n",
       "      <td>Investindo em cripto</td>\n",
       "      <td>traders club celebra contrato us 15 milhões 2...</td>\n",
       "      <td>manhã desta quartafeira 6 traders club inform...</td>\n",
       "      <td>06/10/2021 - 13:56</td>\n",
       "      <td>94</td>\n",
       "      <td>1</td>\n",
       "      <td>traders club celebra contrato us 15 milhões 2...</td>\n",
       "      <td>2</td>\n",
       "    </tr>\n",
       "    <tr>\n",
       "      <th>3</th>\n",
       "      <td>Investimentos</td>\n",
       "      <td>comissão valores mobiliários estados unidos a...</td>\n",
       "      <td>comissão valores mobiliários estados unidos s...</td>\n",
       "      <td>15/10/2021 - 19:00</td>\n",
       "      <td>88</td>\n",
       "      <td>1</td>\n",
       "      <td>comissão valores mobiliários estados unidos a...</td>\n",
       "      <td>2</td>\n",
       "    </tr>\n",
       "    <tr>\n",
       "      <th>4</th>\n",
       "      <td>Opinião</td>\n",
       "      <td>caio mesquita novo uniforme longa batalha</td>\n",
       "      <td>desde início agora longínquo 2009 temos dito ...</td>\n",
       "      <td>18/12/2021 - 12:00</td>\n",
       "      <td>47</td>\n",
       "      <td>0</td>\n",
       "      <td>caio mesquita novo uniforme longa batalha  de...</td>\n",
       "      <td>0</td>\n",
       "    </tr>\n",
       "  </tbody>\n",
       "</table>\n",
       "</div>"
      ],
      "text/plain": [
       "                 Categoria                                             Titulo  \\\n",
       "0        Corretora cripto    ceo cryptocom confirma 400 contas foram compr...   \n",
       "1  Tradicional vs. cripto    gigante investimentos pimco poderá negociar c...   \n",
       "2    Investindo em cripto    traders club celebra contrato us 15 milhões 2...   \n",
       "3           Investimentos    comissão valores mobiliários estados unidos a...   \n",
       "4                 Opinião           caio mesquita novo uniforme longa batalha   \n",
       "\n",
       "                                       PrimeiroParag                Data  \\\n",
       "0   ceo cryptocom kris marszalek confirmou corret...  19/01/2022 - 16:08   \n",
       "1   pimco empresa investimentos gerencia us 2 tri...  21/10/2021 - 11:14   \n",
       "2   manhã desta quartafeira 6 traders club inform...  06/10/2021 - 13:56   \n",
       "3   comissão valores mobiliários estados unidos s...  15/10/2021 - 19:00   \n",
       "4   desde início agora longínquo 2009 temos dito ...  18/12/2021 - 12:00   \n",
       "\n",
       "   Pagina  Target                                              texto  \\\n",
       "0      32       2   ceo cryptocom confirma 400 contas foram compr...   \n",
       "1      85       1   gigante investimentos pimco poderá negociar c...   \n",
       "2      94       1   traders club celebra contrato us 15 milhões 2...   \n",
       "3      88       1   comissão valores mobiliários estados unidos a...   \n",
       "4      47       0   caio mesquita novo uniforme longa batalha  de...   \n",
       "\n",
       "   Classificador  \n",
       "0              2  \n",
       "1              1  \n",
       "2              2  \n",
       "3              2  \n",
       "4              0  "
      ]
     },
     "execution_count": 45,
     "metadata": {},
     "output_type": "execute_result"
    }
   ],
   "source": [
    "'''Aplicação final do Nave Bayes e criação da coluna Classificador com o resultado \n",
    "'''\n",
    "i = 0\n",
    "for text in test['texto']:\n",
    "    \n",
    "    prob0dadoTexto = lista_prob_texto_dado_0[i] * prob0 \n",
    "    prob1dadoTexto = lista_prob_texto_dado_1[i] * prob1 \n",
    "    prob2dadoTexto = lista_prob_texto_dado_2[i] * prob2 \n",
    "    \n",
    "    \n",
    "    if (prob0dadoTexto > prob1dadoTexto) and (prob0dadoTexto > prob2dadoTexto): \n",
    "        \n",
    "        test.loc[test['Titulo'] == test['Titulo'][i], 'Classificador'] = 0\n",
    "        \n",
    "    elif (prob1dadoTexto > prob0dadoTexto) and (prob1dadoTexto > prob2dadoTexto): \n",
    "        \n",
    "        test.loc[test['Titulo'] == test['Titulo'][i], 'Classificador'] = 1\n",
    "        \n",
    "    elif (prob2dadoTexto > prob1dadoTexto) and (prob2dadoTexto > prob0dadoTexto): \n",
    "        \n",
    "        test.loc[test['Titulo'] == test['Titulo'][i], 'Classificador'] = 2\n",
    "        \n",
    "    i += 1\n",
    "\n",
    "test.Classificador = test.Classificador.astype('int')\n",
    "test.head()"
   ]
  },
  {
   "cell_type": "code",
   "execution_count": 46,
   "metadata": {},
   "outputs": [],
   "source": [
    "'''Verificando a performance\n",
    "'''\n",
    "comparador = pd.crosstab(test['Target'], test['Classificador'],normalize = 'index')\n",
    "\n",
    "falso_neutro = comparador[1][0]+comparador[2][0]\n",
    "falso_positivo = comparador[0][1]+comparador[2][1]\n",
    "falso_negativo = comparador[0][2]+comparador[1][2]\n",
    "\n",
    "acuracia = accuracy_score(test['Target'], test['Classificador'])"
   ]
  },
  {
   "cell_type": "code",
   "execution_count": 47,
   "metadata": {},
   "outputs": [
    {
     "name": "stdout",
     "output_type": "stream",
     "text": [
      "Verdadeiros neutros: 68.80% \n",
      "Falsos neutros: 31.20%\n",
      "Verdadeiros positivos: 62.01% \n",
      "Falsos positivos: 37.99%\n",
      "Verdadeiros negativos: 56.25% \n",
      "Falsos negativos: 43.75%\n",
      "Acurácia: 62.75%\n"
     ]
    }
   ],
   "source": [
    "print('Verdadeiros neutros: {:.2f}% \\nFalsos neutros: {:.2f}%\\nVerdadeiros positivos: {:.2f}% \\nFalsos positivos: {:.2f}%\\nVerdadeiros negativos: {:.2f}% \\nFalsos negativos: {:.2f}%\\nAcurácia: {:.2f}%'.format(comparador[0][0]*100, falso_neutro*100, comparador[1][1]*100, falso_positivo*100, comparador[2][2]*100, falso_negativo*100, acuracia*100))\n",
    "        "
   ]
  },
  {
   "cell_type": "markdown",
   "metadata": {},
   "source": [
    "___\n",
    "### Concluindo"
   ]
  },
  {
   "cell_type": "markdown",
   "metadata": {},
   "source": [
    "Por meio do algoritmo de Naive-Bayes, com a suavização de LaPlace aplicada, o grupo obteve um classificador com uma acurácia -método que indica a performance geral do modelo - de 62.75%, sendo esse um resultado satisfatório para essa etapa do curso de Ciência dos Dados, pois representa que mais da metade dos resultados do Classificador estavam em concordância com a marcação manual feita pelo grupo.  "
   ]
  },
  {
   "cell_type": "markdown",
   "metadata": {},
   "source": [
    "Ademais, o classificador obteve diferentes performances para cada categoria: A categoria Neutra obteve o melhor desempenho individual, apresentando quase 70% de Verdadeiros-Neutros; Já a categora Negativa obteve o desempenho menos satisfatório entre esses, com 56,25% de Verdadeiros-Negativos. No entanto, esse valor é apenas 6,5% abaixo do maior desempenho individual nas variáveis, o que explicita equilíbrio entre elas."
   ]
  },
  {
   "cell_type": "markdown",
   "metadata": {},
   "source": [
    "Parte do desempenho individual ter sido um pouco mais baixo na categoria 'Negativa' pode ser atrelado à dificuldade do algoritmo em interpretar sarcasmos e dupla negação em um texto, uma vez que ele analisa cada palavra individualmente em uma frase, e não o contexto ou a ordem em que ela foi escrita. Por exemplo, uma frase do tipo: 'O bitcoin não aumentou hoje, depois de vários dias em alta' seria considerada uma notícia ruim para a classificação manual, no entanto, o Classificador provavelmente a interpretaria como uma notícia boa por conter, em sua maioria, palavras normalmente ligadas à categoria Positiva (aumentou, alta). "
   ]
  },
  {
   "cell_type": "markdown",
   "metadata": {},
   "source": [
    "Entretanto, esse aspecto que enviesa o Naive-Bayes pode ser melhorado por meio da combinação de atributos relacionados, através de algoritmos de regressão auxiliares, chamados Combinadores. Inicialmente, para selecionar as combinações possíveis, o algoritmo constrói um modelo tratando todos os aributos como condicionalmente independentes. Então, ele substitui cada par de atributos por um novo atributo combinado. A combinação que obter a melhor performance é mantida.  [https://www.cos.ufrj.br/~ines/enia07_html/pdf/28095.pdf]"
   ]
  },
  {
   "cell_type": "markdown",
   "metadata": {},
   "source": [
    "Além disso, é preciso ter em mente que o Classificador atual está em uma de suas formas mais puras, podendo ser, assim, melhorado e desenvolvido posteriormente e, por isso, o projeto deve continuar sendo financiado. Nesse sentido, ele pode expandir e abrangir ainda mais o campo das Criptomoedas: além de classificá-las, pode indicar a qual Cripto específica aquela notícia se refere e, assim, fazer um estudo mais profundo do mundo cripto como um todo. "
   ]
  },
  {
   "cell_type": "markdown",
   "metadata": {},
   "source": [
    "Decerto, o modelo Naive-Bayes é um dos mais populares no aprendizado de máquinas, sendo assim, possui outras aplicações além da classificação de notícias. Entre elas, há o 'Sistema de Recomendação': analisar indivíduos e sugerir algo que possa os interessar. No Naive-Bayes, a filtragem colaborativa seria o método utilizado para esse tipo de aplicação,o que consistiria na percepção de similaridades entre usuários e determinação de suas preferências. Outro uso é o sistema utilizado na saúde, para prever a disposição de determinada doença em um usuário: análise de dados históricos e condições correlatas entre diferentes tipos de doenças - por exemplo, por meio dos sintomas e características de um determinado paciente que possui uma doença A decobrir qual as chances de ele desenvolver uma outra doença B. "
   ]
  },
  {
   "cell_type": "markdown",
   "metadata": {},
   "source": [
    "O último aspecto a ser considerado nessa discussão é o fato de que não se pode usar o próprio Classificador para gerar novas amostras de treinamento, pois isso seria o equivalente a comparar um 'modelo' com outro 'modelo'. Um exemplo prático e cotidiano seria fazer uma lista de exercícios para treinar para uma determinada prova e depois receber a prova idêntica à lista que foi usada de treinamento, seria o mesmo que decorar as respostas. Assim seria com o Classificador, ele não estaria, de fato, criando novas amostras, apenas replicando sua própria base. "
   ]
  },
  {
   "cell_type": "markdown",
   "metadata": {},
   "source": [
    "___\n",
    "### Qualidade do Classificador a partir de novas separações das notícias entre Treinamento e Teste\n",
    "\n",
    "Caso for fazer esse item do Projeto"
   ]
  },
  {
   "cell_type": "code",
   "execution_count": null,
   "metadata": {},
   "outputs": [],
   "source": []
  },
  {
   "cell_type": "code",
   "execution_count": null,
   "metadata": {},
   "outputs": [],
   "source": []
  },
  {
   "cell_type": "code",
   "execution_count": null,
   "metadata": {},
   "outputs": [],
   "source": []
  },
  {
   "cell_type": "markdown",
   "metadata": {},
   "source": [
    "___\n",
    "## Aperfeiçoamento:\n",
    "\n",
    "Trabalhos que conseguirem pelo menos conceito B vão evoluir em conceito dependendo da quantidade de itens avançados:\n",
    "\n",
    "* IMPLEMENTOU outras limpezas e transformações que não afetem a qualidade da informação contida nas notícias. Ex: stemming, lemmatization, stopwords\n",
    "* CONSIDEROU mais de duas caterogias na variável Target e INCREMENTOU a quantidade de notícias, mantendo pelo menos 250 notícias por caterogia (OBRIGATÓRIO PARA TRIOS, sem contar como item avançado)\n",
    "* Para Target com duas categorias: CRIOU pelo menos quatro categorias intermediárias de relevância baseadas na probabilidade: ex.: muito relevante, relevante, neutro, irrelevante, muito irrelevante\n",
    "* EXPLICOU porquê não pode usar o próprio classificador para gerar mais amostras de treinamento\n",
    "* PROPÔS diferentes cenários para Naïve Bayes fora do contexto do projeto (pelo menos dois cenários, exceto aqueles já apresentados em sala pelos professores: por exemplo, filtro de spam)\n",
    "* SUGERIU e EXPLICOU melhorias reais com indicações concretas de como implementar (indicar como fazer e indicar material de pesquisa)\n",
    "* FEZ o item Qualidade do Classificador a partir de novas separações das Notícias entre Treinamento e Teste descrito no enunciado do projeto (OBRIGATÓRIO para conceitos A ou A+)"
   ]
  },
  {
   "cell_type": "markdown",
   "metadata": {},
   "source": [
    "___\n",
    "## Referências"
   ]
  },
  {
   "cell_type": "markdown",
   "metadata": {},
   "source": [
    "[Naive Bayes and Text Classification](https://arxiv.org/pdf/1410.5329.pdf)  **Mais completo**\n",
    "\n",
    "[A practical explanation of a Naive Bayes Classifier](https://monkeylearn.com/blog/practical-explanation-naive-bayes-classifier/) **Mais simples**"
   ]
  }
 ],
 "metadata": {
  "kernelspec": {
   "display_name": "Python 3",
   "language": "python",
   "name": "python3"
  },
  "language_info": {
   "codemirror_mode": {
    "name": "ipython",
    "version": 3
   },
   "file_extension": ".py",
   "mimetype": "text/x-python",
   "name": "python",
   "nbconvert_exporter": "python",
   "pygments_lexer": "ipython3",
   "version": "3.8.8"
  }
 },
 "nbformat": 4,
 "nbformat_minor": 4
}
